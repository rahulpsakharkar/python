{
 "cells": [
  {
   "cell_type": "markdown",
   "metadata": {},
   "source": [
    "#### Function to read the data from an XML document and display it."
   ]
  },
  {
   "cell_type": "code",
   "execution_count": 1,
   "metadata": {},
   "outputs": [],
   "source": [
    "from xml.dom.minidom import parse\n",
    "import xml.dom.minidom"
   ]
  },
  {
   "cell_type": "code",
   "execution_count": 2,
   "metadata": {},
   "outputs": [
    {
     "name": "stdout",
     "output_type": "stream",
     "text": [
      "Enter XML document name with path:.\\..\\Datasets\\book store.xml\n"
     ]
    }
   ],
   "source": [
    "# Get path of xml document\n",
    "xml_doc_path = input('Enter XML document name with path:')"
   ]
  },
  {
   "cell_type": "code",
   "execution_count": 3,
   "metadata": {},
   "outputs": [],
   "source": [
    "def display_xml_file(xml_doc_path):\n",
    "    # Open XML document using minidom parser\n",
    "    DOMTree = xml.dom.minidom.parse(xml_doc_path)\n",
    "    bookstore = DOMTree.documentElement\n",
    "    if bookstore.hasAttribute(\"shelf\"):\n",
    "        print (\"Root element : %s\" % bookstore.getAttribute(\"shelf\"))\n",
    "    \n",
    "    # Get all the books in the bookstore\n",
    "    books = bookstore.getElementsByTagName(\"book\")\n",
    "    \n",
    "    # Print details of each book\n",
    "    for book in books:\n",
    "        print (\"\\n*****Book Details*****\")\n",
    "        if book.hasAttribute(\"category\"):\n",
    "              print (\"Category: %s\" % book.getAttribute(\"category\"))\n",
    "        \n",
    "        title = book.getElementsByTagName('title')[0]\n",
    "        print (\"Title: %s\" % title.childNodes[0].data)\n",
    "        author = book.getElementsByTagName('author')[0]\n",
    "        print (\"Author: %s\" % author.childNodes[0].data)\n",
    "        price = book.getElementsByTagName('price')[0]\n",
    "        year = book.getElementsByTagName('year')[0]\n",
    "        print(\"Year: %s\" % year.childNodes[0].data)\n",
    "        print(\"Price: INR %s\" % price.childNodes[0].data)"
   ]
  },
  {
   "cell_type": "code",
   "execution_count": 4,
   "metadata": {},
   "outputs": [
    {
     "name": "stdout",
     "output_type": "stream",
     "text": [
      "Root element : New Arrivals\n",
      "\n",
      "*****Book Details*****\n",
      "Category: SPIRITUALITY\n",
      "Title: Beyond the Mind\n",
      "Author: David Frawley\n",
      "Year: 1992\n",
      "Price: INR 300.00\n",
      "\n",
      "*****Book Details*****\n",
      "Category: BUSINESS\n",
      "Title: You Can Win\n",
      "Author: Shiv Khera\n",
      "Year: 1998\n",
      "Price: INR 244.00\n",
      "\n",
      "*****Book Details*****\n",
      "Category: TECHNOLOGY\n",
      "Title: Python Data Science Handbook\n",
      "Author: Jake VanderPlas\n",
      "Year: 2016\n",
      "Price: INR 1250.00\n"
     ]
    }
   ],
   "source": [
    "display_xml_file(xml_doc_path)"
   ]
  }
 ],
 "metadata": {
  "kernelspec": {
   "display_name": "Python 3",
   "language": "python",
   "name": "python3"
  },
  "language_info": {
   "codemirror_mode": {
    "name": "ipython",
    "version": 3
   },
   "file_extension": ".py",
   "mimetype": "text/x-python",
   "name": "python",
   "nbconvert_exporter": "python",
   "pygments_lexer": "ipython3",
   "version": "3.7.3"
  }
 },
 "nbformat": 4,
 "nbformat_minor": 2
}
