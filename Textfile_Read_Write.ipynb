{
 "cells": [
  {
   "cell_type": "markdown",
   "metadata": {},
   "source": [
    "### This code reads data from input text file and calculates the number of characters per line, number of words per line. This count is written in output file."
   ]
  },
  {
   "cell_type": "code",
   "execution_count": 1,
   "metadata": {},
   "outputs": [
    {
     "name": "stdout",
     "output_type": "stream",
     "text": [
      "Enter the folder path for input_file.txt file: E:\\Datasets\n"
     ]
    }
   ],
   "source": [
    "# Get file path from user\n",
    "file_path = input(\"Enter the folder path for input_file.txt file: \")"
   ]
  },
  {
   "cell_type": "code",
   "execution_count": 2,
   "metadata": {},
   "outputs": [],
   "source": [
    "# Open files\n",
    "\n",
    "inputfile = open(file_path+\"\\input_file.txt\", 'r')\n",
    "outfile = open(file_path+\"\\output_file.txt\",'w')"
   ]
  },
  {
   "cell_type": "code",
   "execution_count": 3,
   "metadata": {},
   "outputs": [],
   "source": [
    "# initialize counters\n",
    "\n",
    "line_no = 0\n",
    "words_per_line = 0\n",
    "characters_per_line = 0"
   ]
  },
  {
   "cell_type": "code",
   "execution_count": 4,
   "metadata": {},
   "outputs": [],
   "source": [
    "# Count number of characters and words in input file and write in output file\n",
    "\n",
    "outfile.write(\"This file gives the number of characters per line and number of words per line in input.txt file.\\n\\n\")\n",
    "for line in inputfile:\n",
    "    line_no = line_no + 1\n",
    "    words_per_line = len(line.split())\n",
    "    characters_per_line = len(line)\n",
    "    \n",
    "    # print(\"Total words in line {line_num} are: {word_count}\".format(line_num = line_no, word_count =  words_per_line))\n",
    "    # print(\"Total characters in line {line_num} are: {char_count}\".format(line_num = line_no, char_count =  characters_per_line))\n",
    "    # print(\"\\n\")\n",
    "    \n",
    "    outfile.write(\"Total characters in line {line_num} are: {char_count}\\n\".format(line_num = line_no, char_count =  characters_per_line))\n",
    "    outfile.write(\"Total words in line {line_num} are: {word_count}\\n\".format(line_num = line_no, word_count =  words_per_line))"
   ]
  },
  {
   "cell_type": "code",
   "execution_count": 5,
   "metadata": {},
   "outputs": [],
   "source": [
    "# Close the open files\n",
    "\n",
    "inputfile.close()\n",
    "outfile.close()"
   ]
  }
 ],
 "metadata": {
  "kernelspec": {
   "display_name": "Python 3",
   "language": "python",
   "name": "python3"
  },
  "language_info": {
   "codemirror_mode": {
    "name": "ipython",
    "version": 3
   },
   "file_extension": ".py",
   "mimetype": "text/x-python",
   "name": "python",
   "nbconvert_exporter": "python",
   "pygments_lexer": "ipython3",
   "version": "3.7.3"
  }
 },
 "nbformat": 4,
 "nbformat_minor": 2
}
