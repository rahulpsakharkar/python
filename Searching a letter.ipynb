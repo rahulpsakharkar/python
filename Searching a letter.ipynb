{
 "cells": [
  {
   "cell_type": "markdown",
   "metadata": {},
   "source": [
    "#### Write a program to receive a string from keybord and check if the string has two 'i' in the characters. If yes return True else False."
   ]
  },
  {
   "cell_type": "code",
   "execution_count": 1,
   "metadata": {},
   "outputs": [
    {
     "name": "stdout",
     "output_type": "stream",
     "text": [
      "Enter a String : Test this code multiple combinations.\n"
     ]
    }
   ],
   "source": [
    "# Assumptions\n",
    "# 1. Only character 'i' is considered and not 'I' for computation\n",
    "# 2. For more than 2 'i' in characters program prints True as more than 2 'i' implies it has 2 'i's.\n",
    "\n",
    "# You can test the program for multiple cases like: \n",
    "# 1 'i', 2 'i's, more than 2 'i's, 1 'I' and 1 'i', 1 'I' and 2 'i', 1 'I' and more than 2 'i'\n",
    "\n",
    "keyboard_input = input (\"Enter a String : \") "
   ]
  },
  {
   "cell_type": "code",
   "execution_count": 2,
   "metadata": {},
   "outputs": [
    {
     "name": "stdout",
     "output_type": "stream",
     "text": [
      "True\n"
     ]
    }
   ],
   "source": [
    "flag1 = 0\n",
    "for letter in keyboard_input:\n",
    "    if letter == 'i':\n",
    "        flag1 = flag1+1\n",
    "        \n",
    "if (flag1 < 2):\n",
    "    print('False')\n",
    "else:\n",
    "    print('True') "
   ]
  },
  {
   "cell_type": "code",
   "execution_count": 3,
   "metadata": {},
   "outputs": [
    {
     "name": "stdout",
     "output_type": "stream",
     "text": [
      "Enter a String : Test this too same way.\n"
     ]
    }
   ],
   "source": [
    "# This code breaks loop as soon as it finds 2 'i's:\n",
    "\n",
    "keyboard_input2 = input (\"Enter a String : \")"
   ]
  },
  {
   "cell_type": "code",
   "execution_count": 4,
   "metadata": {},
   "outputs": [
    {
     "name": "stdout",
     "output_type": "stream",
     "text": [
      "False\n"
     ]
    }
   ],
   "source": [
    "flag2 = 0\n",
    "for letter in keyboard_input2:\n",
    "    if letter == 'i':\n",
    "        flag2 = flag2+1\n",
    "        if flag2 == 2:\n",
    "            print ('True')\n",
    "            break\n",
    "        \n",
    "if (flag2 < 2):\n",
    "    print('False') "
   ]
  },
  {
   "cell_type": "markdown",
   "metadata": {},
   "source": [
    "#### Modified for 'i' and/or 'I'"
   ]
  },
  {
   "cell_type": "code",
   "execution_count": 5,
   "metadata": {},
   "outputs": [
    {
     "name": "stdout",
     "output_type": "stream",
     "text": [
      "Enter a String : I am sure you understood this code well!\n"
     ]
    }
   ],
   "source": [
    "keyboard_input3 = input (\"Enter a String : \")"
   ]
  },
  {
   "cell_type": "code",
   "execution_count": 6,
   "metadata": {},
   "outputs": [
    {
     "name": "stdout",
     "output_type": "stream",
     "text": [
      "True\n"
     ]
    }
   ],
   "source": [
    "flag3 = 0\n",
    "for letter in keyboard_input3:\n",
    "    if letter == 'i' or letter == 'I':\n",
    "        flag3 = flag3+1\n",
    "        if flag3 == 2:\n",
    "            print ('True')\n",
    "            break\n",
    "        \n",
    "if (flag3 < 2):\n",
    "    print('False')"
   ]
  }
 ],
 "metadata": {
  "kernelspec": {
   "display_name": "Python 3",
   "language": "python",
   "name": "python3"
  },
  "language_info": {
   "codemirror_mode": {
    "name": "ipython",
    "version": 3
   },
   "file_extension": ".py",
   "mimetype": "text/x-python",
   "name": "python",
   "nbconvert_exporter": "python",
   "pygments_lexer": "ipython3",
   "version": "3.7.3"
  }
 },
 "nbformat": 4,
 "nbformat_minor": 2
}
